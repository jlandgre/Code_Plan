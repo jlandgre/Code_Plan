{
 "cells": [
  {
   "cell_type": "code",
   "execution_count": 45,
   "id": "cb2a35c8-c8d4-4442-8049-845dc82b5efb",
   "metadata": {},
   "outputs": [],
   "source": [
    "import pandas as pd\n",
    "import re"
   ]
  },
  {
   "cell_type": "markdown",
   "id": "716b5466-6bcf-4727-bbbd-39724635ce27",
   "metadata": {},
   "source": [
    "## Notebook with exploration of parsing VBA code for `CodePlan.py class VBAToCodePlan`\n",
    "#### JDL, August 2023\n",
    "</br></br>"
   ]
  },
  {
   "cell_type": "markdown",
   "id": "07600f62-3d75-427b-9d41-24fa0cf88bed",
   "metadata": {},
   "source": [
    "### Regular Expression for Identifying and Parsing VBA Function/Sub First Lines"
   ]
  },
  {
   "cell_type": "markdown",
   "id": "d4bcffd4-82f5-4cea-adbf-42329edfcaa5",
   "metadata": {},
   "source": [
    "ChatGPT-Generated Regular Expression for function/sub first lines</br>\n",
    "`Function ExampleProcedure(cls, ByVal arg1, Optional arg2) As Boolean`\n",
    "</br></br>Initial Regular Expression and explanation:</br>\n",
    "`r\"Function\\s+(\\w+)\\s*\\((.*?)\\)\\s+As\\s+(\\w+)\"`\n",
    "</br></br>Modified with initial `?` make `As` clause optional:</br>\n",
    "`r'^\\s*(?:Function|Sub)\\s+(\\w+)\\s*\\((.*?)\\)\\s*(?:As\\s+(\\w+))?\\s*$'`\n",
    "\n",
    "1. `^\\s*`: This part allows for optional leading whitespace at the beginning of the line.\n",
    "2. `(?:Function|Sub)`: We use a non-capturing group (?: ... ) to match either \"Function\" or \"Sub\".\n",
    "3. `\\s+`: Allows for one or more whitespace characters after \"Function\" or \"Sub\".\n",
    "4. `(\\w+)`: This captures the function or sub name using the \\w+ pattern, which matches one or more word characters (letters, digits, or underscores).\n",
    "5. `\\s*`: Allows for optional whitespace after the function or sub name.\n",
    "6. `\\((.*?)\\)`: This captures the function arguments using the .*? pattern inside the parentheses, allowing for an empty argument list.\n",
    "7. `\\s*`: Allows for optional whitespace after the closing parenthesis of the argument list.\n",
    "8. `(?:As\\s+(\\w+))?`: This is a non-capturing group that matches the \"As\" clause and the function type if present, but the whole group is optional due to the ? quantifier.\n",
    "9. `\\s*$`: This allows for optional trailing whitespace at the end of the line.\n",
    "\n",
    "Notes:</br>\n",
    "* Since the CodePlan.py strips leading and trailing whitespace on code lines, we don't need #1 and #9\n",
    "* It's desirable to capture the first group to determine whether the line is for a Function or Subroutine\n",
    "* Because of VBA auto-spacing, there will only be one whitespace between elements, so `\\s` is ok instead of `\\s+`\n",
    "* General format is `(grp)\\s(grp)\\((grp)\\)(?:\\sAs\\s(grp)?` where final `?` makes `As` clause optional and `\\(` and `\\)` are escaped parentheses\n",
    "\n",
    "`r\"(Function|Sub)\\s(\\w+)\\((.*?)\\)(?:\\sAs\\s(\\w+))?\"`"
   ]
  },
  {
   "cell_type": "code",
   "execution_count": 69,
   "id": "afd149d2-205d-4a62-9362-75ed719e6a8d",
   "metadata": {},
   "outputs": [],
   "source": [
    "line1_pattern = r\"(Function|Sub)\\s(\\w+)\\((.*?)\\)(?:\\sAs\\s(\\w+))?\"\n",
    "\n",
    "def print_matches(line1_pattern, title, s):\n",
    "    fn_match = re.match(line1_pattern, s)\n",
    "    print('\\n')\n",
    "    print(title)\n",
    "    print(True) if fn_match else print(False)\n",
    "    if fn_match:\n",
    "        for i in range(1,5):\n",
    "            print(fn_match.group(i))"
   ]
  },
  {
   "cell_type": "code",
   "execution_count": 70,
   "id": "66fc4bbc-394c-4545-ae51-d63e2fcb91e8",
   "metadata": {},
   "outputs": [
    {
     "name": "stdout",
     "output_type": "stream",
     "text": [
      "\n",
      "\n",
      "Example with match\n",
      "True\n",
      "Function\n",
      "ExampleProcedure\n",
      "cls, ByVal arg1, Optional arg2\n",
      "Boolean\n",
      "\n",
      "\n",
      "No Parentheses\n",
      "True\n",
      "Function\n",
      "ExampleProcedure\n",
      "\n",
      "Boolean\n",
      "\n",
      "\n",
      "No As Clause\n",
      "True\n",
      "Function\n",
      "ExampleProcedure\n",
      "arg1\n",
      "None\n",
      "\n",
      "\n",
      "Sub\n",
      "True\n",
      "Sub\n",
      "ExampleProcedure\n",
      "arg1\n",
      "None\n",
      "\n",
      "\n",
      "Non-Match\n",
      "False\n"
     ]
    }
   ],
   "source": [
    "s = \"Function ExampleProcedure(cls, ByVal arg1, Optional arg2) As Boolean\"\n",
    "print_matches(line1_pattern, \"Example with match\", s)\n",
    "\n",
    "s = \"Function ExampleProcedure() As Boolean\"\n",
    "print_matches(line1_pattern, \"No Parentheses\", s)\n",
    "\n",
    "s = \"Function ExampleProcedure(arg1)\"\n",
    "print_matches(line1_pattern, \"No As Clause\", s)\n",
    "\n",
    "s = \"Sub ExampleProcedure(arg1)\"\n",
    "print_matches(line1_pattern, \"Sub\", s)\n",
    "\n",
    "s = \"Sub   ExampleProcedure(arg1)\"\n",
    "print_matches(line1_pattern, \"Non-Match\", s)"
   ]
  },
  {
   "cell_type": "code",
   "execution_count": null,
   "id": "b248e720-9fdc-492d-9617-7fcae846bdbd",
   "metadata": {},
   "outputs": [],
   "source": []
  },
  {
   "cell_type": "markdown",
   "id": "3ab7ae4b-f4b3-4857-a38e-8220402b0d14",
   "metadata": {},
   "source": [
    "### Refresher on interplay of index values (e.g. row \"names\") and row numbers"
   ]
  },
  {
   "cell_type": "code",
   "execution_count": 38,
   "id": "67dc5289-d427-4a1e-9d5d-44342672098e",
   "metadata": {},
   "outputs": [
    {
     "name": "stdout",
     "output_type": "stream",
     "text": [
      "      Name  Age\n",
      "0    Alice   25\n",
      "1      Bob   30\n",
      "2  Charlie   22\n",
      "3    David   28\n",
      "4      Eva   35\n"
     ]
    }
   ],
   "source": [
    "# Sample DataFrame with range index\n",
    "data = {'Name': ['Alice', 'Bob', 'Charlie', 'David', 'Eva'],\n",
    "        'Age': [25, 30, 22, 28, 35]}\n",
    "\n",
    "df = pd.DataFrame(data)\n",
    "print(df)"
   ]
  },
  {
   "cell_type": "code",
   "execution_count": 39,
   "id": "240553af-c0cb-4358-8d28-27fd5d8c6eba",
   "metadata": {},
   "outputs": [
    {
     "data": {
      "text/html": [
       "<div>\n",
       "<style scoped>\n",
       "    .dataframe tbody tr th:only-of-type {\n",
       "        vertical-align: middle;\n",
       "    }\n",
       "\n",
       "    .dataframe tbody tr th {\n",
       "        vertical-align: top;\n",
       "    }\n",
       "\n",
       "    .dataframe thead th {\n",
       "        text-align: right;\n",
       "    }\n",
       "</style>\n",
       "<table border=\"1\" class=\"dataframe\">\n",
       "  <thead>\n",
       "    <tr style=\"text-align: right;\">\n",
       "      <th></th>\n",
       "      <th>Name</th>\n",
       "      <th>Age</th>\n",
       "    </tr>\n",
       "  </thead>\n",
       "  <tbody>\n",
       "    <tr>\n",
       "      <th>1</th>\n",
       "      <td>Bob</td>\n",
       "      <td>30</td>\n",
       "    </tr>\n",
       "    <tr>\n",
       "      <th>3</th>\n",
       "      <td>David</td>\n",
       "      <td>28</td>\n",
       "    </tr>\n",
       "    <tr>\n",
       "      <th>4</th>\n",
       "      <td>Eva</td>\n",
       "      <td>35</td>\n",
       "    </tr>\n",
       "  </tbody>\n",
       "</table>\n",
       "</div>"
      ],
      "text/plain": [
       "    Name  Age\n",
       "1    Bob   30\n",
       "3  David   28\n",
       "4    Eva   35"
      ]
     },
     "execution_count": 39,
     "metadata": {},
     "output_type": "execute_result"
    }
   ],
   "source": [
    "# Drop two rows to make index non-consecutive\n",
    "df2 = df.drop(2).drop(0)\n",
    "df2"
   ]
  },
  {
   "cell_type": "code",
   "execution_count": 41,
   "id": "74b7359d-3232-4769-8346-451754d13952",
   "metadata": {},
   "outputs": [
    {
     "name": "stdout",
     "output_type": "stream",
     "text": [
      "1\n"
     ]
    },
    {
     "data": {
      "text/plain": [
       "Name    David\n",
       "Age        28\n",
       "Name: 3, dtype: object"
      ]
     },
     "execution_count": 41,
     "metadata": {},
     "output_type": "execute_result"
    }
   ],
   "source": [
    "# index.get_loc returns the row number (e.g. .iloc row) for a specified index value\n",
    "irow = df2.index.get_loc(3)\n",
    "print(irow)\n",
    "df2.iloc[irow]"
   ]
  },
  {
   "cell_type": "code",
   "execution_count": 43,
   "id": "6b9302c2-54b1-4d82-8abe-f3683670d333",
   "metadata": {},
   "outputs": [
    {
     "data": {
      "text/plain": [
       "Name    Eva\n",
       "Age      35\n",
       "Name: 4, dtype: object"
      ]
     },
     "execution_count": 43,
     "metadata": {},
     "output_type": "execute_result"
    }
   ],
   "source": [
    "#next row from a specified index\n",
    "df2.iloc[df2.index.get_loc(3) + 1]"
   ]
  },
  {
   "cell_type": "code",
   "execution_count": 44,
   "id": "bfe0b39a-9212-443b-90c6-c3e23abeb318",
   "metadata": {},
   "outputs": [
    {
     "data": {
      "text/plain": [
       "4"
      ]
     },
     "execution_count": 44,
     "metadata": {},
     "output_type": "execute_result"
    }
   ],
   "source": [
    "#2nd row's index value\n",
    "df2.iloc[2].name"
   ]
  },
  {
   "cell_type": "code",
   "execution_count": null,
   "id": "48b5d405-5d84-415a-9b0c-5c334750a4af",
   "metadata": {},
   "outputs": [],
   "source": [
    "### Parsing VBA Function/Sub Argument Strings"
   ]
  },
  {
   "cell_type": "code",
   "execution_count": 7,
   "id": "60b25c37-eac1-4cab-8edb-7ee2db475da3",
   "metadata": {},
   "outputs": [
    {
     "data": {
      "text/plain": [
       "['arg1 As Integer',\n",
       " 'arg2',\n",
       " 'ByRef arg2',\n",
       " 'Optional ByVal arg3',\n",
       " 'Optional ByVal arg4 As Integer']"
      ]
     },
     "execution_count": 7,
     "metadata": {},
     "output_type": "execute_result"
    }
   ],
   "source": [
    "s = \"arg1 As Integer, arg2, ByRef arg2, Optional ByVal arg3, Optional ByVal arg4 As Integer\"\n",
    "\n",
    "lst_args = s.split(\", \")\n",
    "lst_args"
   ]
  },
  {
   "cell_type": "code",
   "execution_count": 8,
   "id": "2084f0e5-e4c7-4201-9cfe-1198e8e52c57",
   "metadata": {},
   "outputs": [
    {
     "data": {
      "text/plain": [
       "['Optional ByVal arg4', 'Integer']"
      ]
     },
     "execution_count": 8,
     "metadata": {},
     "output_type": "execute_result"
    }
   ],
   "source": [
    "s2 = lst_args[4]\n",
    "s2.split(\" As \")"
   ]
  },
  {
   "cell_type": "code",
   "execution_count": 9,
   "id": "0a470021-2664-48f3-98e4-3bd6e3efff71",
   "metadata": {},
   "outputs": [],
   "source": [
    "def ParseArg(arg):\n",
    "    HasType = False\n",
    "    lst = arg.split(\" As \")\n",
    "    if len(lst) > 1:\n",
    "        HasType = True\n",
    "        lst = lst[0].split(\" \") + [lst[1]]\n",
    "    else:\n",
    "        lst = arg.split(\" \")\n",
    "    return lst, HasType"
   ]
  },
  {
   "cell_type": "code",
   "execution_count": 10,
   "id": "30976fd5-0777-4a73-a1aa-3fd12ef94039",
   "metadata": {},
   "outputs": [
    {
     "name": "stdout",
     "output_type": "stream",
     "text": [
      "\n",
      " ['arg1', 'Integer'] True\n",
      "arg1|Integer|ByRef\n",
      "\n",
      " ['arg2'] False\n",
      "arg2|Variant|ByRef\n",
      "\n",
      " ['ByRef', 'arg2'] False\n",
      "arg2|Variant|ByRef\n",
      "\n",
      " ['Optional', 'ByVal', 'arg3'] False\n",
      "arg3|Variant|ByVal|Optional\n",
      "\n",
      " ['Optional', 'ByVal', 'arg4', 'Integer'] True\n",
      "arg4|Integer|ByVal|Optional\n"
     ]
    }
   ],
   "source": [
    "for arg in lst_args:\n",
    "    parsed_arg, HasType = ParseArg(arg)\n",
    "    print('\\n', parsed_arg, HasType)\n",
    "    \n",
    "    IsOptional, HasBy, arg_by = False, False, \"ByRef\"\n",
    "    if parsed_arg[0] == \"Optional\":\n",
    "        IsOptional = True\n",
    "        parsed_arg = parsed_arg[1:]\n",
    "    if parsed_arg[0] in [\"ByRef\", \"ByVal\"]: \n",
    "        HasBy = True\n",
    "        arg_by = parsed_arg[0]\n",
    "        parsed_arg = parsed_arg[1:]\n",
    "    \n",
    "    arg_name = parsed_arg[0]\n",
    "    arg_type = \"Variant\"\n",
    "    if HasType: arg_type = parsed_arg[-1]\n",
    "    \n",
    "    arg_code_plan = \"|\".join([arg_name, arg_type, arg_by])\n",
    "    if IsOptional: arg_code_plan = arg_code_plan + \"|Optional\"\n",
    "        \n",
    "    #print(arg, \"   \", arg_name, arg_type, arg_by, IsOptional)\n",
    "    print(arg_code_plan)"
   ]
  },
  {
   "cell_type": "markdown",
   "id": "5a0c823c-c264-4822-8996-c50256198c40",
   "metadata": {},
   "source": [
    "#### Docstring extraction"
   ]
  },
  {
   "cell_type": "code",
   "execution_count": null,
   "id": "e3cb19fd-1480-40a2-b7c0-ad3413384483",
   "metadata": {},
   "outputs": [],
   "source": []
  },
  {
   "cell_type": "code",
   "execution_count": 27,
   "id": "b7b4c09f-a4e9-4dad-9392-dedbbba7a4c9",
   "metadata": {},
   "outputs": [],
   "source": [
    "df_code = pd.DataFrame(index=range(10))\n",
    "df_code[\"is_start\"] = [False, False, False, True, False, False, False, False, True, False]\n",
    "df_code[\"is_end\"] = [False, False, False, False, False, True, False, False, False, True]\n",
    "df_code[\"is_bound\"] = [True, False, False, False, False, False, True, False, False, False]\n",
    "\n",
    "df_code[\"code_stripped\"] = [\"\\'------\", \"\\' docstring1\", \"\\' docstring2\", \n",
    "              \"Function First()\", \"Code1\", \"End\", \n",
    "              \"\\'------\", \"\\'docstring3\", \"Function Second()\", \"End\"]"
   ]
  },
  {
   "cell_type": "code",
   "execution_count": 28,
   "id": "6585f236-41f1-4fb5-a2ca-f6bebc4d6f66",
   "metadata": {},
   "outputs": [
    {
     "data": {
      "text/html": [
       "<div>\n",
       "<style scoped>\n",
       "    .dataframe tbody tr th:only-of-type {\n",
       "        vertical-align: middle;\n",
       "    }\n",
       "\n",
       "    .dataframe tbody tr th {\n",
       "        vertical-align: top;\n",
       "    }\n",
       "\n",
       "    .dataframe thead th {\n",
       "        text-align: right;\n",
       "    }\n",
       "</style>\n",
       "<table border=\"1\" class=\"dataframe\">\n",
       "  <thead>\n",
       "    <tr style=\"text-align: right;\">\n",
       "      <th></th>\n",
       "      <th>is_start</th>\n",
       "      <th>is_end</th>\n",
       "      <th>is_bound</th>\n",
       "      <th>code_stripped</th>\n",
       "    </tr>\n",
       "  </thead>\n",
       "  <tbody>\n",
       "    <tr>\n",
       "      <th>0</th>\n",
       "      <td>False</td>\n",
       "      <td>False</td>\n",
       "      <td>True</td>\n",
       "      <td>'------</td>\n",
       "    </tr>\n",
       "    <tr>\n",
       "      <th>1</th>\n",
       "      <td>False</td>\n",
       "      <td>False</td>\n",
       "      <td>False</td>\n",
       "      <td>' docstring1</td>\n",
       "    </tr>\n",
       "    <tr>\n",
       "      <th>2</th>\n",
       "      <td>False</td>\n",
       "      <td>False</td>\n",
       "      <td>False</td>\n",
       "      <td>' docstring2</td>\n",
       "    </tr>\n",
       "    <tr>\n",
       "      <th>3</th>\n",
       "      <td>True</td>\n",
       "      <td>False</td>\n",
       "      <td>False</td>\n",
       "      <td>Function First()</td>\n",
       "    </tr>\n",
       "    <tr>\n",
       "      <th>4</th>\n",
       "      <td>False</td>\n",
       "      <td>False</td>\n",
       "      <td>False</td>\n",
       "      <td>Code1</td>\n",
       "    </tr>\n",
       "    <tr>\n",
       "      <th>5</th>\n",
       "      <td>False</td>\n",
       "      <td>True</td>\n",
       "      <td>False</td>\n",
       "      <td>End</td>\n",
       "    </tr>\n",
       "    <tr>\n",
       "      <th>6</th>\n",
       "      <td>False</td>\n",
       "      <td>False</td>\n",
       "      <td>True</td>\n",
       "      <td>'------</td>\n",
       "    </tr>\n",
       "    <tr>\n",
       "      <th>7</th>\n",
       "      <td>False</td>\n",
       "      <td>False</td>\n",
       "      <td>False</td>\n",
       "      <td>'docstring3</td>\n",
       "    </tr>\n",
       "    <tr>\n",
       "      <th>8</th>\n",
       "      <td>True</td>\n",
       "      <td>False</td>\n",
       "      <td>False</td>\n",
       "      <td>Function Second()</td>\n",
       "    </tr>\n",
       "    <tr>\n",
       "      <th>9</th>\n",
       "      <td>False</td>\n",
       "      <td>True</td>\n",
       "      <td>False</td>\n",
       "      <td>End</td>\n",
       "    </tr>\n",
       "  </tbody>\n",
       "</table>\n",
       "</div>"
      ],
      "text/plain": [
       "   is_start  is_end  is_bound      code_stripped\n",
       "0     False   False      True            '------\n",
       "1     False   False     False       ' docstring1\n",
       "2     False   False     False       ' docstring2\n",
       "3      True   False     False   Function First()\n",
       "4     False   False     False              Code1\n",
       "5     False    True     False                End\n",
       "6     False   False      True            '------\n",
       "7     False   False     False        'docstring3\n",
       "8      True   False     False  Function Second()\n",
       "9     False    True     False                End"
      ]
     },
     "execution_count": 28,
     "metadata": {},
     "output_type": "execute_result"
    }
   ],
   "source": [
    "df_code"
   ]
  },
  {
   "cell_type": "code",
   "execution_count": 32,
   "id": "22414587-491b-4eeb-9716-e3627444aa12",
   "metadata": {},
   "outputs": [],
   "source": [
    "fil_starts = df_code[\"is_start\"]\n",
    "fil_ends = df_code[\"is_end\"]\n",
    "fil_bounds = df_code[\"is_bound\"]\n",
    "df_code.drop([\"is_start\", \"is_end\"], inplace=True, axis=1)"
   ]
  },
  {
   "cell_type": "code",
   "execution_count": 35,
   "id": "481c5ed3-e170-40b3-b3d9-d25b8138a36e",
   "metadata": {},
   "outputs": [],
   "source": [
    "def add_temp_docstring_col(df_code, fil_starts, fil_ends, fil_bounds):\n",
    "    \"\"\"\n",
    "    Locate docstring rows between function/sub start rows and previous\n",
    "    function/sub end row\n",
    "    \n",
    "    JDL 8/3/23\n",
    "    \"\"\"\n",
    "    \n",
    "    #Set previous end index for functions\n",
    "    fil = fil_starts | fil_ends | fil_bounds\n",
    "    df_code.loc[fil, 'prev_end_idx'] = df_code.loc[fil].index.to_series().shift(1, fill_value=0)\n",
    "    \n",
    "    # Parse docstrings for functions; +1 for first row after end except for idx_prev at file begin\n",
    "    for idx in df_code[fil_starts].index:\n",
    "        idx_prev = int(df_code.loc[idx, 'prev_end_idx'])\n",
    "        if (idx_prev > 0) | (idx_prev in df_code[fil_bounds].index): idx_prev +=1\n",
    "\n",
    "        #combine lines in block between previous end and function starts\n",
    "        df_code.loc[idx, \"docstring_temp\"] = \" \\n\".join(df_code.loc[list(range(idx_prev, idx)), \"code_stripped\"]) \n",
    "    return df_code[fil_starts]\n"
   ]
  },
  {
   "cell_type": "code",
   "execution_count": 36,
   "id": "b5528147-0446-4af8-9dff-bb3e220034f4",
   "metadata": {},
   "outputs": [
    {
     "data": {
      "text/html": [
       "<div>\n",
       "<style scoped>\n",
       "    .dataframe tbody tr th:only-of-type {\n",
       "        vertical-align: middle;\n",
       "    }\n",
       "\n",
       "    .dataframe tbody tr th {\n",
       "        vertical-align: top;\n",
       "    }\n",
       "\n",
       "    .dataframe thead th {\n",
       "        text-align: right;\n",
       "    }\n",
       "</style>\n",
       "<table border=\"1\" class=\"dataframe\">\n",
       "  <thead>\n",
       "    <tr style=\"text-align: right;\">\n",
       "      <th></th>\n",
       "      <th>is_bound</th>\n",
       "      <th>code_stripped</th>\n",
       "      <th>prev_end_idx</th>\n",
       "      <th>docstring_temp</th>\n",
       "    </tr>\n",
       "  </thead>\n",
       "  <tbody>\n",
       "    <tr>\n",
       "      <th>3</th>\n",
       "      <td>False</td>\n",
       "      <td>Function First()</td>\n",
       "      <td>0.0</td>\n",
       "      <td>' docstring1 \\n' docstring2</td>\n",
       "    </tr>\n",
       "    <tr>\n",
       "      <th>8</th>\n",
       "      <td>False</td>\n",
       "      <td>Function Second()</td>\n",
       "      <td>6.0</td>\n",
       "      <td>'docstring3</td>\n",
       "    </tr>\n",
       "  </tbody>\n",
       "</table>\n",
       "</div>"
      ],
      "text/plain": [
       "   is_bound      code_stripped  prev_end_idx               docstring_temp\n",
       "3     False   Function First()           0.0  ' docstring1 \\n' docstring2\n",
       "8     False  Function Second()           6.0                  'docstring3"
      ]
     },
     "execution_count": 36,
     "metadata": {},
     "output_type": "execute_result"
    }
   ],
   "source": [
    "add_temp_docstring_col(df_code, fil_starts, fil_ends, fil_bounds)"
   ]
  },
  {
   "cell_type": "code",
   "execution_count": null,
   "id": "4bc7d677-752a-4314-a873-9cbf65b7ffd1",
   "metadata": {},
   "outputs": [],
   "source": []
  }
 ],
 "metadata": {
  "kernelspec": {
   "display_name": "Python 3",
   "language": "python",
   "name": "python3"
  },
  "language_info": {
   "codemirror_mode": {
    "name": "ipython",
    "version": 3
   },
   "file_extension": ".py",
   "mimetype": "text/x-python",
   "name": "python",
   "nbconvert_exporter": "python",
   "pygments_lexer": "ipython3",
   "version": "3.8.8"
  }
 },
 "nbformat": 4,
 "nbformat_minor": 5
}
