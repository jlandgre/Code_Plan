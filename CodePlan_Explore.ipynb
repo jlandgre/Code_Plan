{
 "cells": [
  {
   "cell_type": "code",
   "execution_count": 1,
   "id": "cb2a35c8-c8d4-4442-8049-845dc82b5efb",
   "metadata": {},
   "outputs": [],
   "source": [
    "import pandas as pd"
   ]
  },
  {
   "cell_type": "code",
   "execution_count": 15,
   "id": "67dc5289-d427-4a1e-9d5d-44342672098e",
   "metadata": {},
   "outputs": [
    {
     "name": "stdout",
     "output_type": "stream",
     "text": [
      "      Name  Age\n",
      "0    Alice   25\n",
      "1      Bob   30\n",
      "2  Charlie   22\n",
      "3    David   28\n",
      "4      Eva   35\n"
     ]
    }
   ],
   "source": [
    "# Sample DataFrame\n",
    "data = {\n",
    "    'Name': ['Alice', 'Bob', 'Charlie', 'David', 'Eva'],\n",
    "    'Age': [25, 30, 22, 28, 35],\n",
    "}\n",
    "\n",
    "df = pd.DataFrame(data)\n",
    "print(df)"
   ]
  },
  {
   "cell_type": "code",
   "execution_count": 16,
   "id": "240553af-c0cb-4358-8d28-27fd5d8c6eba",
   "metadata": {},
   "outputs": [
    {
     "data": {
      "text/html": [
       "<div>\n",
       "<style scoped>\n",
       "    .dataframe tbody tr th:only-of-type {\n",
       "        vertical-align: middle;\n",
       "    }\n",
       "\n",
       "    .dataframe tbody tr th {\n",
       "        vertical-align: top;\n",
       "    }\n",
       "\n",
       "    .dataframe thead th {\n",
       "        text-align: right;\n",
       "    }\n",
       "</style>\n",
       "<table border=\"1\" class=\"dataframe\">\n",
       "  <thead>\n",
       "    <tr style=\"text-align: right;\">\n",
       "      <th></th>\n",
       "      <th>Name</th>\n",
       "      <th>Age</th>\n",
       "    </tr>\n",
       "  </thead>\n",
       "  <tbody>\n",
       "    <tr>\n",
       "      <th>1</th>\n",
       "      <td>Bob</td>\n",
       "      <td>30</td>\n",
       "    </tr>\n",
       "    <tr>\n",
       "      <th>3</th>\n",
       "      <td>David</td>\n",
       "      <td>28</td>\n",
       "    </tr>\n",
       "    <tr>\n",
       "      <th>4</th>\n",
       "      <td>Eva</td>\n",
       "      <td>35</td>\n",
       "    </tr>\n",
       "  </tbody>\n",
       "</table>\n",
       "</div>"
      ],
      "text/plain": [
       "    Name  Age\n",
       "1    Bob   30\n",
       "3  David   28\n",
       "4    Eva   35"
      ]
     },
     "execution_count": 16,
     "metadata": {},
     "output_type": "execute_result"
    }
   ],
   "source": [
    "df2 = df.drop(2).drop(0)\n",
    "df2"
   ]
  },
  {
   "cell_type": "code",
   "execution_count": 17,
   "id": "74b7359d-3232-4769-8346-451754d13952",
   "metadata": {},
   "outputs": [
    {
     "name": "stdout",
     "output_type": "stream",
     "text": [
      "1\n"
     ]
    },
    {
     "data": {
      "text/plain": [
       "Name    David\n",
       "Age        28\n",
       "Name: 3, dtype: object"
      ]
     },
     "execution_count": 17,
     "metadata": {},
     "output_type": "execute_result"
    }
   ],
   "source": [
    "idx = df2.index.get_loc(3)\n",
    "print(idx)\n",
    "df2.iloc[idx]"
   ]
  },
  {
   "cell_type": "code",
   "execution_count": 19,
   "id": "6b9302c2-54b1-4d82-8abe-f3683670d333",
   "metadata": {},
   "outputs": [
    {
     "data": {
      "text/plain": [
       "Name    Eva\n",
       "Age      35\n",
       "Name: 4, dtype: object"
      ]
     },
     "execution_count": 19,
     "metadata": {},
     "output_type": "execute_result"
    }
   ],
   "source": [
    "#next row from a specified idx\n",
    "df2.iloc[idx+1]"
   ]
  },
  {
   "cell_type": "code",
   "execution_count": 21,
   "id": "bfe0b39a-9212-443b-90c6-c3e23abeb318",
   "metadata": {},
   "outputs": [
    {
     "data": {
      "text/plain": [
       "4"
      ]
     },
     "execution_count": 21,
     "metadata": {},
     "output_type": "execute_result"
    }
   ],
   "source": [
    "df2.iloc[idx+1].name"
   ]
  },
  {
   "cell_type": "code",
   "execution_count": 33,
   "id": "60b25c37-eac1-4cab-8edb-7ee2db475da3",
   "metadata": {},
   "outputs": [
    {
     "data": {
      "text/plain": [
       "['arg1 As Integer',\n",
       " 'arg2',\n",
       " 'ByRef arg2',\n",
       " 'Optional ByVal arg3',\n",
       " 'Optional ByVal arg4 As Integer']"
      ]
     },
     "execution_count": 33,
     "metadata": {},
     "output_type": "execute_result"
    }
   ],
   "source": [
    "s = \"arg1 As Integer, arg2, ByRef arg2, Optional ByVal arg3, Optional ByVal arg4 As Integer\"\n",
    "\n",
    "lst_args = s.split(\", \")\n",
    "lst_args"
   ]
  },
  {
   "cell_type": "code",
   "execution_count": 34,
   "id": "2084f0e5-e4c7-4201-9cfe-1198e8e52c57",
   "metadata": {},
   "outputs": [
    {
     "data": {
      "text/plain": [
       "['Optional ByVal arg1']"
      ]
     },
     "execution_count": 34,
     "metadata": {},
     "output_type": "execute_result"
    }
   ],
   "source": [
    "s2.split(\" As \")"
   ]
  },
  {
   "cell_type": "code",
   "execution_count": 49,
   "id": "0a470021-2664-48f3-98e4-3bd6e3efff71",
   "metadata": {},
   "outputs": [],
   "source": [
    "def ParseArg(arg):\n",
    "    HasType = False\n",
    "    lst = arg.split(\" As \")\n",
    "    if len(lst) > 1:\n",
    "        HasType = True\n",
    "        lst = lst[0].split(\" \") + [lst[1]]\n",
    "    else:\n",
    "        lst = arg.split(\" \")\n",
    "    return lst, HasType"
   ]
  },
  {
   "cell_type": "code",
   "execution_count": 57,
   "id": "30976fd5-0777-4a73-a1aa-3fd12ef94039",
   "metadata": {},
   "outputs": [
    {
     "name": "stdout",
     "output_type": "stream",
     "text": [
      "\n",
      " ['arg1', 'Integer'] True\n",
      "arg1|Integer|ByRef\n",
      "\n",
      " ['arg2'] False\n",
      "arg2|Variant|ByRef\n",
      "\n",
      " ['ByRef', 'arg2'] False\n",
      "arg2|Variant|ByRef\n",
      "\n",
      " ['Optional', 'ByVal', 'arg3'] False\n",
      "arg3|Variant|ByVal|Optional\n",
      "\n",
      " ['Optional', 'ByVal', 'arg4', 'Integer'] True\n",
      "arg4|Integer|ByVal|Optional\n"
     ]
    }
   ],
   "source": [
    "for arg in lst_args:\n",
    "    parsed_arg, HasType = ParseArg(arg)\n",
    "    print('\\n', parsed_arg, HasType)\n",
    "    \n",
    "    IsOptional, HasBy, arg_by = False, False, \"ByRef\"\n",
    "    if parsed_arg[0] == \"Optional\":\n",
    "        IsOptional = True\n",
    "        parsed_arg = parsed_arg[1:]\n",
    "    if parsed_arg[0] in [\"ByRef\", \"ByVal\"]: \n",
    "        HasBy = True\n",
    "        arg_by = parsed_arg[0]\n",
    "        parsed_arg = parsed_arg[1:]\n",
    "    \n",
    "    arg_name = parsed_arg[0]\n",
    "    arg_type = \"Variant\"\n",
    "    if HasType: arg_type = parsed_arg[-1]\n",
    "    \n",
    "    arg_code_plan = \"|\".join([arg_name, arg_type, arg_by])\n",
    "    if IsOptional: arg_code_plan = arg_code_plan + \"|Optional\"\n",
    "        \n",
    "    #print(arg, \"   \", arg_name, arg_type, arg_by, IsOptional)\n",
    "    print(arg_code_plan)\n"
   ]
  },
  {
   "cell_type": "code",
   "execution_count": null,
   "id": "09acba03-6097-4b2e-9d62-154b2537a4f0",
   "metadata": {},
   "outputs": [],
   "source": []
  }
 ],
 "metadata": {
  "kernelspec": {
   "display_name": "Python 3",
   "language": "python",
   "name": "python3"
  },
  "language_info": {
   "codemirror_mode": {
    "name": "ipython",
    "version": 3
   },
   "file_extension": ".py",
   "mimetype": "text/x-python",
   "name": "python",
   "nbconvert_exporter": "python",
   "pygments_lexer": "ipython3",
   "version": "3.8.8"
  }
 },
 "nbformat": 4,
 "nbformat_minor": 5
}
