{
 "cells": [
  {
   "cell_type": "markdown",
   "id": "60037b23-4870-4b1e-a4f0-3b2b51a24207",
   "metadata": {},
   "source": [
    "### This example parses a code module into df_plan_mdlImportRow.xlsx\n",
    "JDL 8/28/23"
   ]
  },
  {
   "cell_type": "code",
   "execution_count": 1,
   "id": "1cd0460c-29f2-4b64-8c8d-38f0fdcfd7dd",
   "metadata": {},
   "outputs": [],
   "source": [
    "import sys, os\n",
    "import pandas as pd\n",
    "import numpy as np"
   ]
  },
  {
   "cell_type": "code",
   "execution_count": 2,
   "id": "91202238-9763-4ae2-8a5a-96356710e61d",
   "metadata": {},
   "outputs": [],
   "source": [
    "path_home = os.getcwd().split(os.sep)\n",
    "sys.path.append(os.sep.join(path_home[0:-1]))"
   ]
  },
  {
   "cell_type": "code",
   "execution_count": 3,
   "id": "8b4225fb-712e-465d-8129-1f645871d625",
   "metadata": {},
   "outputs": [],
   "source": [
    "from CodePlan import VBAToCodePlan"
   ]
  },
  {
   "cell_type": "code",
   "execution_count": 4,
   "id": "4578062e-5e37-44cc-a953-45edca65bb73",
   "metadata": {},
   "outputs": [],
   "source": [
    "lst = ['mdlImportRow.vb', 'mdlScenario.vb']\n",
    "for code_file in lst:\n",
    "    plan = VBAToCodePlan(code_file)\n",
    "    plan.CreateCodePlanProcedure()\n",
    "    plan.df_plan.to_excel('df_plan_' + code_file.split('.')[0] + '.xlsx', index=False)"
   ]
  },
  {
   "cell_type": "markdown",
   "id": "dcefc8bf-b44d-4d89-b729-8be7eb582041",
   "metadata": {},
   "source": [
    "#### Print function and sub first lines"
   ]
  },
  {
   "cell_type": "code",
   "execution_count": 5,
   "id": "8097f1e7-7ea6-4621-8a6d-79a8238df676",
   "metadata": {},
   "outputs": [
    {
     "name": "stdout",
     "output_type": "stream",
     "text": [
      "Function Init(ByRef mdl As mdlScenario, wkbk, Optional sht, Optional IsCalc, Opt\n",
      "Function SetCellHome(mdl, cellHome) As Boolean\n",
      "Function Provision(ByRef mdl As mdlScenario, wkbk, Optional sht, Optional IsCalc\n",
      "Function PrepStepsForMdl(wkbk, ByRef tblS) As Boolean\n",
      "Sub FormatScenModelClass(mdl)\n",
      "Sub SetHeaderStyle(rng)\n",
      "Function SetColRanges(ByRef mdl) As Boolean\n",
      "Function ParseMdlScenDefn(mdl, sDefn) As Boolean\n",
      "Function SetAttsFromArgs(ByRef mdl, sht, IsLiteModel, IsSuppHeader, IsRngNames, \n",
      "Sub SetRngFormulaRows(ByRef mdl, tblS)\n",
      "Sub ApplyBorderAroundModel(mdl, Optional IsBufferRow = False, Optional IsBufferC\n",
      "Function ClearModel(mdl, Optional IsBufferRow = False, Optional IsBufferCol = Fa\n",
      "Function DeleteMdlRangeNames(mdl, Optional sPrefix As String) As Boolean\n",
      "Sub AddDropdownToVariable(mdl, sVar, sDropdownFormula)\n",
      "Function ScenModelLoc(mdl, sVar, Optional rngCol) As Range\n",
      "Sub SetScenModelLoc(mdl, sVar, val, Optional rngCol)\n",
      "Function Refresh(mdl) As Boolean\n",
      "Function CkVarAndScenNames(mdl) As Boolean\n",
      "Sub NameMdlColumns(mdl)\n",
      "Function SwapModels(wkbk As Workbook, Optional ByVal ModelNew As String, Optiona\n",
      "Function InitSwapModels(mdlDest As mdlScenario, tblImp As tblRowsCols, tblS As t\n",
      "Function TransferToTblImport(ByVal mdlDest As mdlScenario, ByRef tblImp As tblRo\n",
      "Function ReadModelName(ByVal mdlDest As mdlScenario, ByVal tblS As tblRowsCols, \n",
      "Function TblImportDeleteModel(tblImp, Model) As Boolean\n",
      "Function TransferMdlDestRows(mdlDest, tblImp As tblRowsCols, ByVal tblS As tblRo\n",
      "Function DeleteTblImpTrailingBlankRows(ByRef tblImp As tblRowsCols) As Boolean\n",
      "Function StepsDeleteMdl(mdl, tblS) As Boolean\n",
      "Function SetStepsRowRange(mdl, tblS) As Boolean\n",
      "Function TransferToMdlDest(mdlDest, tblImp, tblS, ModelNew, ModelDefnDest) As Bo\n",
      "Function InitTransferToMdl(ByVal mdlDest As mdlScenario, ByRef tblImp As tblRows\n",
      "Function TransferTblImportRows(ByRef R_MI As mdlImportRow, ByRef mdlDest As mdlS\n",
      "Function ResetPostTransfer(ByRef mdlDest As mdlScenario, ByVal rngModel As Range\n"
     ]
    }
   ],
   "source": [
    "for line in plan.df_code.loc[plan.fil_starts, 'stripped_code']:\n",
    "    print(line[0:80])"
   ]
  }
 ],
 "metadata": {
  "kernelspec": {
   "display_name": "Python 3",
   "language": "python",
   "name": "python3"
  },
  "language_info": {
   "codemirror_mode": {
    "name": "ipython",
    "version": 3
   },
   "file_extension": ".py",
   "mimetype": "text/x-python",
   "name": "python",
   "nbconvert_exporter": "python",
   "pygments_lexer": "ipython3",
   "version": "3.8.8"
  }
 },
 "nbformat": 4,
 "nbformat_minor": 5
}
